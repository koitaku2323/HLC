{
 "cells": [
  {
   "cell_type": "code",
   "execution_count": 2,
   "id": "4fdfd496",
   "metadata": {},
   "outputs": [
    {
     "name": "stdout",
     "output_type": "stream",
     "text": [
      "Note: you may need to restart the kernel to use updated packages.\n"
     ]
    }
   ],
   "source": [
    "%pip install -qU pypdf langchain_community"
   ]
  },
  {
   "cell_type": "code",
   "execution_count": 2,
   "id": "5d104b69",
   "metadata": {},
   "outputs": [
    {
     "name": "stdout",
     "output_type": "stream",
     "text": [
      "467\n"
     ]
    }
   ],
   "source": [
    "from langchain_community.document_loaders import PyPDFLoader\n",
    "\n",
    "#file_path = \"../example_data/nke-10k-2023.pdf\"\n",
    "file_path = \"C:/Users/aryye/OneDrive/Documents/GitHub/HLC/data/LCOS Manual.pdf\"\n",
    "loader = PyPDFLoader(file_path)\n",
    "\n",
    "docs = loader.load()\n",
    "\n",
    "print(len(docs))"
   ]
  },
  {
   "cell_type": "code",
   "execution_count": 3,
   "id": "c5d16d6c",
   "metadata": {},
   "outputs": [
    {
     "name": "stdout",
     "output_type": "stream",
     "text": [
      " \n",
      " \n",
      " \n",
      " \n",
      " \n",
      " \n",
      " \n",
      " \n",
      " \n",
      " \n",
      " \n",
      " \n",
      " \n",
      " \n",
      " \n",
      " \n",
      " \n",
      "  \n",
      " \n",
      " \n",
      " \n",
      " \n",
      " \n",
      " \n",
      " \n",
      " \n",
      " \n",
      "LCOS USER MANUAL  \n",
      " \n",
      " \n",
      " \n",
      " \n",
      " \n",
      " \n",
      " \n",
      " \n",
      " \n",
      " \n",
      " \n",
      " \n",
      " \n",
      "\n",
      "{'source': 'C:/Users/aryye/OneDrive/Documents/GitHub/HLC/data/LCOS Manual.pdf', 'page': 0}\n"
     ]
    }
   ],
   "source": [
    "print(docs[0].page_content[0:100])\n",
    "print(docs[0].metadata)"
   ]
  },
  {
   "cell_type": "code",
   "execution_count": 3,
   "id": "83d8b226",
   "metadata": {},
   "outputs": [
    {
     "name": "stdout",
     "output_type": "stream",
     "text": [
      "Note: you may need to restart the kernel to use updated packages.\n"
     ]
    }
   ],
   "source": [
    "%pip install -qU langchain-openai"
   ]
  },
  {
   "cell_type": "code",
   "execution_count": 4,
   "id": "717f8da7",
   "metadata": {},
   "outputs": [
    {
     "name": "stdout",
     "output_type": "stream",
     "text": [
      "········\n"
     ]
    }
   ],
   "source": [
    "import getpass\n",
    "import os\n",
    "\n",
    "os.environ[\"OPENAI_API_KEY\"] = getpass.getpass()\n",
    "\n",
    "from langchain_openai import ChatOpenAI\n",
    "\n",
    "llm = ChatOpenAI(model=\"gpt-4o\")"
   ]
  },
  {
   "cell_type": "code",
   "execution_count": null,
   "id": "c28c11ae",
   "metadata": {},
   "outputs": [],
   "source": [
    "#from langchain.llms import OpenAI\n",
    "#llm = OpenAI(model_name=\"text-ada-001\", openai_api_key=API_KEY)"
   ]
  },
  {
   "cell_type": "code",
   "execution_count": 2,
   "id": "e2b34f0f",
   "metadata": {},
   "outputs": [
    {
     "name": "stdout",
     "output_type": "stream",
     "text": [
      "Collecting langchain_chroma\n",
      "  Obtaining dependency information for langchain_chroma from https://files.pythonhosted.org/packages/10/05/34b30ff33af5ea7e6e5b6d1bf8ea3a0f2c1462c6b7f750f21dd0179fdf1e/langchain_chroma-0.1.2-py3-none-any.whl.metadata\n",
      "  Using cached langchain_chroma-0.1.2-py3-none-any.whl.metadata (1.3 kB)\n",
      "Requirement already satisfied: langchain_openai in c:\\users\\aryye\\anaconda3\\lib\\site-packages (0.1.16)\n",
      "Collecting chromadb<0.6.0,>=0.4.0 (from langchain_chroma)\n",
      "  Obtaining dependency information for chromadb<0.6.0,>=0.4.0 from https://files.pythonhosted.org/packages/55/97/f863c09b2d0cb320869f96e936408bfad1a47b349821256e9a8a229aebe6/chromadb-0.5.4-py3-none-any.whl.metadata\n",
      "  Using cached chromadb-0.5.4-py3-none-any.whl.metadata (6.8 kB)\n",
      "Collecting fastapi<1,>=0.95.2 (from langchain_chroma)\n",
      "  Obtaining dependency information for fastapi<1,>=0.95.2 from https://files.pythonhosted.org/packages/a4/d4/eb78f7c2648a3585095623f207d7e4b85a1be30347e01e0fdcd1d7d167a9/fastapi-0.111.1-py3-none-any.whl.metadata\n",
      "  Using cached fastapi-0.111.1-py3-none-any.whl.metadata (26 kB)\n",
      "Requirement already satisfied: langchain-core<0.3,>=0.1.40 in c:\\users\\aryye\\anaconda3\\lib\\site-packages (from langchain_chroma) (0.2.20)\n",
      "Requirement already satisfied: numpy<2,>=1 in c:\\users\\aryye\\anaconda3\\lib\\site-packages (from langchain_chroma) (1.24.3)\n",
      "Requirement already satisfied: openai<2.0.0,>=1.32.0 in c:\\users\\aryye\\anaconda3\\lib\\site-packages (from langchain_openai) (1.35.14)\n",
      "Requirement already satisfied: tiktoken<1,>=0.7 in c:\\users\\aryye\\anaconda3\\lib\\site-packages (from langchain_openai) (0.7.0)\n",
      "Collecting build>=1.0.3 (from chromadb<0.6.0,>=0.4.0->langchain_chroma)\n",
      "  Obtaining dependency information for build>=1.0.3 from https://files.pythonhosted.org/packages/e2/03/f3c8ba0a6b6e30d7d18c40faab90807c9bb5e9a1e3b2fe2008af624a9c97/build-1.2.1-py3-none-any.whl.metadata\n",
      "  Using cached build-1.2.1-py3-none-any.whl.metadata (4.3 kB)\n",
      "Requirement already satisfied: pydantic>=1.9 in c:\\users\\aryye\\anaconda3\\lib\\site-packages (from chromadb<0.6.0,>=0.4.0->langchain_chroma) (1.10.8)\n",
      "Requirement already satisfied: chroma-hnswlib==0.7.5 in c:\\users\\aryye\\anaconda3\\lib\\site-packages (from chromadb<0.6.0,>=0.4.0->langchain_chroma) (0.7.5)\n",
      "Collecting uvicorn[standard]>=0.18.3 (from chromadb<0.6.0,>=0.4.0->langchain_chroma)\n",
      "  Obtaining dependency information for uvicorn[standard]>=0.18.3 from https://files.pythonhosted.org/packages/b2/f9/e6f30ba6094733e4f9794fd098ca0543a19b07ac1fa3075d595bf0f1fb60/uvicorn-0.30.1-py3-none-any.whl.metadata\n",
      "  Using cached uvicorn-0.30.1-py3-none-any.whl.metadata (6.3 kB)\n",
      "Collecting posthog>=2.4.0 (from chromadb<0.6.0,>=0.4.0->langchain_chroma)\n",
      "  Obtaining dependency information for posthog>=2.4.0 from https://files.pythonhosted.org/packages/6c/5f/24cb22118db0e11703b6b80ef9f982eadde21eb585c3a769719e48dce893/posthog-3.5.0-py2.py3-none-any.whl.metadata\n",
      "  Using cached posthog-3.5.0-py2.py3-none-any.whl.metadata (2.0 kB)\n",
      "Requirement already satisfied: typing-extensions>=4.5.0 in c:\\users\\aryye\\anaconda3\\lib\\site-packages (from chromadb<0.6.0,>=0.4.0->langchain_chroma) (4.10.0)\n",
      "Collecting onnxruntime>=1.14.1 (from chromadb<0.6.0,>=0.4.0->langchain_chroma)\n",
      "  Obtaining dependency information for onnxruntime>=1.14.1 from https://files.pythonhosted.org/packages/99/b2/488704f6298ac249015f65b64c24bf5611fcf2594ab0e75fa6bcce5e873f/onnxruntime-1.18.1-cp311-cp311-win_amd64.whl.metadata\n",
      "  Using cached onnxruntime-1.18.1-cp311-cp311-win_amd64.whl.metadata (4.5 kB)\n",
      "Collecting opentelemetry-api>=1.2.0 (from chromadb<0.6.0,>=0.4.0->langchain_chroma)\n",
      "  Obtaining dependency information for opentelemetry-api>=1.2.0 from https://files.pythonhosted.org/packages/7e/b2/4bc5e52c9a23df0ac17dbb23923e609a8269cd67000a712b4f5bcfae1490/opentelemetry_api-1.25.0-py3-none-any.whl.metadata\n",
      "  Using cached opentelemetry_api-1.25.0-py3-none-any.whl.metadata (1.4 kB)\n",
      "Collecting opentelemetry-exporter-otlp-proto-grpc>=1.2.0 (from chromadb<0.6.0,>=0.4.0->langchain_chroma)\n",
      "  Obtaining dependency information for opentelemetry-exporter-otlp-proto-grpc>=1.2.0 from https://files.pythonhosted.org/packages/b0/f3/e24294e7b3f6d2b9aafc97b9b82e214dfe9ffa152dfecbd897e7ffbf6844/opentelemetry_exporter_otlp_proto_grpc-1.25.0-py3-none-any.whl.metadata\n",
      "  Using cached opentelemetry_exporter_otlp_proto_grpc-1.25.0-py3-none-any.whl.metadata (2.2 kB)\n",
      "Collecting opentelemetry-instrumentation-fastapi>=0.41b0 (from chromadb<0.6.0,>=0.4.0->langchain_chroma)\n",
      "  Obtaining dependency information for opentelemetry-instrumentation-fastapi>=0.41b0 from https://files.pythonhosted.org/packages/b8/96/905d575947342c4fd6781a28f6d7bc7f4f6670d45e3b1a85f8a06955c9ae/opentelemetry_instrumentation_fastapi-0.46b0-py3-none-any.whl.metadata\n",
      "  Using cached opentelemetry_instrumentation_fastapi-0.46b0-py3-none-any.whl.metadata (2.0 kB)\n",
      "Collecting opentelemetry-sdk>=1.2.0 (from chromadb<0.6.0,>=0.4.0->langchain_chroma)\n",
      "  Obtaining dependency information for opentelemetry-sdk>=1.2.0 from https://files.pythonhosted.org/packages/ae/b2/729a959a8aa032bce246c791f977161099ab60fb0188408ccec1bf283b00/opentelemetry_sdk-1.25.0-py3-none-any.whl.metadata\n",
      "  Using cached opentelemetry_sdk-1.25.0-py3-none-any.whl.metadata (1.4 kB)\n",
      "Requirement already satisfied: tokenizers>=0.13.2 in c:\\users\\aryye\\anaconda3\\lib\\site-packages (from chromadb<0.6.0,>=0.4.0->langchain_chroma) (0.13.2)\n",
      "Requirement already satisfied: pypika>=0.48.9 in c:\\users\\aryye\\anaconda3\\lib\\site-packages (from chromadb<0.6.0,>=0.4.0->langchain_chroma) (0.48.9)\n",
      "Requirement already satisfied: tqdm>=4.65.0 in c:\\users\\aryye\\anaconda3\\lib\\site-packages (from chromadb<0.6.0,>=0.4.0->langchain_chroma) (4.66.2)\n",
      "Requirement already satisfied: overrides>=7.3.1 in c:\\users\\aryye\\appdata\\roaming\\python\\python311\\site-packages (from chromadb<0.6.0,>=0.4.0->langchain_chroma) (7.7.0)\n",
      "Requirement already satisfied: importlib-resources in c:\\users\\aryye\\anaconda3\\lib\\site-packages (from chromadb<0.6.0,>=0.4.0->langchain_chroma) (6.4.0)\n",
      "Requirement already satisfied: grpcio>=1.58.0 in c:\\users\\aryye\\anaconda3\\lib\\site-packages (from chromadb<0.6.0,>=0.4.0->langchain_chroma) (1.64.1)\n",
      "Requirement already satisfied: bcrypt>=4.0.1 in c:\\users\\aryye\\anaconda3\\lib\\site-packages (from chromadb<0.6.0,>=0.4.0->langchain_chroma) (4.1.3)\n",
      "Requirement already satisfied: typer>=0.9.0 in c:\\users\\aryye\\anaconda3\\lib\\site-packages (from chromadb<0.6.0,>=0.4.0->langchain_chroma) (0.9.0)\n",
      "Collecting kubernetes>=28.1.0 (from chromadb<0.6.0,>=0.4.0->langchain_chroma)\n",
      "  Obtaining dependency information for kubernetes>=28.1.0 from https://files.pythonhosted.org/packages/62/a1/2027ddede72d33be2effc087580aeba07e733a7360780ae87226f1f91bd8/kubernetes-30.1.0-py2.py3-none-any.whl.metadata\n",
      "  Using cached kubernetes-30.1.0-py2.py3-none-any.whl.metadata (1.5 kB)\n",
      "Requirement already satisfied: tenacity>=8.2.3 in c:\\users\\aryye\\anaconda3\\lib\\site-packages (from chromadb<0.6.0,>=0.4.0->langchain_chroma) (8.5.0)\n",
      "Requirement already satisfied: PyYAML>=6.0.0 in c:\\users\\aryye\\anaconda3\\lib\\site-packages (from chromadb<0.6.0,>=0.4.0->langchain_chroma) (6.0)\n",
      "Requirement already satisfied: mmh3>=4.0.1 in c:\\users\\aryye\\anaconda3\\lib\\site-packages (from chromadb<0.6.0,>=0.4.0->langchain_chroma) (4.1.0)\n",
      "Requirement already satisfied: orjson>=3.9.12 in c:\\users\\aryye\\anaconda3\\lib\\site-packages (from chromadb<0.6.0,>=0.4.0->langchain_chroma) (3.10.6)\n",
      "Requirement already satisfied: httpx>=0.27.0 in c:\\users\\aryye\\anaconda3\\lib\\site-packages (from chromadb<0.6.0,>=0.4.0->langchain_chroma) (0.27.0)\n",
      "Collecting starlette<0.38.0,>=0.37.2 (from fastapi<1,>=0.95.2->langchain_chroma)\n",
      "  Obtaining dependency information for starlette<0.38.0,>=0.37.2 from https://files.pythonhosted.org/packages/fd/18/31fa32ed6c68ba66220204ef0be798c349d0a20c1901f9d4a794e08c76d8/starlette-0.37.2-py3-none-any.whl.metadata\n",
      "  Using cached starlette-0.37.2-py3-none-any.whl.metadata (5.9 kB)\n",
      "Collecting fastapi-cli>=0.0.2 (from fastapi<1,>=0.95.2->langchain_chroma)\n",
      "  Obtaining dependency information for fastapi-cli>=0.0.2 from https://files.pythonhosted.org/packages/a1/03/89bf615052aa5453c04d952225ded0b88aab6487b9c5f0c268939d13b860/fastapi_cli-0.0.4-py3-none-any.whl.metadata\n",
      "  Using cached fastapi_cli-0.0.4-py3-none-any.whl.metadata (7.0 kB)\n",
      "Requirement already satisfied: jinja2>=2.11.2 in c:\\users\\aryye\\anaconda3\\lib\\site-packages (from fastapi<1,>=0.95.2->langchain_chroma) (3.1.2)\n",
      "Requirement already satisfied: python-multipart>=0.0.7 in c:\\users\\aryye\\anaconda3\\lib\\site-packages (from fastapi<1,>=0.95.2->langchain_chroma) (0.0.9)\n",
      "Collecting email_validator>=2.0.0 (from fastapi<1,>=0.95.2->langchain_chroma)\n",
      "  Obtaining dependency information for email_validator>=2.0.0 from https://files.pythonhosted.org/packages/d7/ee/bf0adb559ad3c786f12bcbc9296b3f5675f529199bef03e2df281fa1fadb/email_validator-2.2.0-py3-none-any.whl.metadata\n",
      "  Using cached email_validator-2.2.0-py3-none-any.whl.metadata (25 kB)\n",
      "Requirement already satisfied: jsonpatch<2.0,>=1.33 in c:\\users\\aryye\\anaconda3\\lib\\site-packages (from langchain-core<0.3,>=0.1.40->langchain_chroma) (1.33)\n",
      "Requirement already satisfied: langsmith<0.2.0,>=0.1.75 in c:\\users\\aryye\\anaconda3\\lib\\site-packages (from langchain-core<0.3,>=0.1.40->langchain_chroma) (0.1.87)\n",
      "Requirement already satisfied: packaging<25,>=23.2 in c:\\users\\aryye\\anaconda3\\lib\\site-packages (from langchain-core<0.3,>=0.1.40->langchain_chroma) (24.1)\n",
      "Requirement already satisfied: anyio<5,>=3.5.0 in c:\\users\\aryye\\anaconda3\\lib\\site-packages (from openai<2.0.0,>=1.32.0->langchain_openai) (3.5.0)\n",
      "Requirement already satisfied: distro<2,>=1.7.0 in c:\\users\\aryye\\anaconda3\\lib\\site-packages (from openai<2.0.0,>=1.32.0->langchain_openai) (1.9.0)\n",
      "Requirement already satisfied: sniffio in c:\\users\\aryye\\anaconda3\\lib\\site-packages (from openai<2.0.0,>=1.32.0->langchain_openai) (1.2.0)\n",
      "Requirement already satisfied: regex>=2022.1.18 in c:\\users\\aryye\\anaconda3\\lib\\site-packages (from tiktoken<1,>=0.7->langchain_openai) (2022.7.9)\n",
      "Requirement already satisfied: requests>=2.26.0 in c:\\users\\aryye\\anaconda3\\lib\\site-packages (from tiktoken<1,>=0.7->langchain_openai) (2.31.0)\n",
      "Requirement already satisfied: idna>=2.8 in c:\\users\\aryye\\anaconda3\\lib\\site-packages (from anyio<5,>=3.5.0->openai<2.0.0,>=1.32.0->langchain_openai) (3.4)\n",
      "Requirement already satisfied: pyproject_hooks in c:\\users\\aryye\\anaconda3\\lib\\site-packages (from build>=1.0.3->chromadb<0.6.0,>=0.4.0->langchain_chroma) (1.1.0)\n",
      "Requirement already satisfied: colorama in c:\\users\\aryye\\anaconda3\\lib\\site-packages (from build>=1.0.3->chromadb<0.6.0,>=0.4.0->langchain_chroma) (0.4.6)\n",
      "Requirement already satisfied: dnspython>=2.0.0 in c:\\users\\aryye\\anaconda3\\lib\\site-packages (from email_validator>=2.0.0->fastapi<1,>=0.95.2->langchain_chroma) (2.6.1)\n",
      "Collecting typer>=0.9.0 (from chromadb<0.6.0,>=0.4.0->langchain_chroma)\n",
      "  Obtaining dependency information for typer>=0.9.0 from https://files.pythonhosted.org/packages/20/b5/11cf2e34fbb11b937e006286ab5b8cfd334fde1c8fa4dd7f491226931180/typer-0.12.3-py3-none-any.whl.metadata\n",
      "  Using cached typer-0.12.3-py3-none-any.whl.metadata (15 kB)\n",
      "Requirement already satisfied: certifi in c:\\users\\aryye\\anaconda3\\lib\\site-packages (from httpx>=0.27.0->chromadb<0.6.0,>=0.4.0->langchain_chroma) (2023.7.22)\n",
      "Requirement already satisfied: httpcore==1.* in c:\\users\\aryye\\anaconda3\\lib\\site-packages (from httpx>=0.27.0->chromadb<0.6.0,>=0.4.0->langchain_chroma) (1.0.5)\n",
      "Requirement already satisfied: h11<0.15,>=0.13 in c:\\users\\aryye\\anaconda3\\lib\\site-packages (from httpcore==1.*->httpx>=0.27.0->chromadb<0.6.0,>=0.4.0->langchain_chroma) (0.14.0)\n",
      "Requirement already satisfied: MarkupSafe>=2.0 in c:\\users\\aryye\\anaconda3\\lib\\site-packages (from jinja2>=2.11.2->fastapi<1,>=0.95.2->langchain_chroma) (2.1.1)\n",
      "Requirement already satisfied: jsonpointer>=1.9 in c:\\users\\aryye\\anaconda3\\lib\\site-packages (from jsonpatch<2.0,>=1.33->langchain-core<0.3,>=0.1.40->langchain_chroma) (2.1)\n",
      "Requirement already satisfied: six>=1.9.0 in c:\\users\\aryye\\anaconda3\\lib\\site-packages (from kubernetes>=28.1.0->chromadb<0.6.0,>=0.4.0->langchain_chroma) (1.16.0)\n",
      "Requirement already satisfied: python-dateutil>=2.5.3 in c:\\users\\aryye\\anaconda3\\lib\\site-packages (from kubernetes>=28.1.0->chromadb<0.6.0,>=0.4.0->langchain_chroma) (2.8.2)\n",
      "Collecting google-auth>=1.0.1 (from kubernetes>=28.1.0->chromadb<0.6.0,>=0.4.0->langchain_chroma)\n",
      "  Obtaining dependency information for google-auth>=1.0.1 from https://files.pythonhosted.org/packages/e7/00/85c22f7f73fa2e88dfbf0e1f63c565386ba40e0264b59c8a4362ae27c9fc/google_auth-2.32.0-py2.py3-none-any.whl.metadata\n",
      "  Using cached google_auth-2.32.0-py2.py3-none-any.whl.metadata (4.7 kB)\n",
      "Requirement already satisfied: websocket-client!=0.40.0,!=0.41.*,!=0.42.*,>=0.32.0 in c:\\users\\aryye\\anaconda3\\lib\\site-packages (from kubernetes>=28.1.0->chromadb<0.6.0,>=0.4.0->langchain_chroma) (0.58.0)\n",
      "Collecting requests-oauthlib (from kubernetes>=28.1.0->chromadb<0.6.0,>=0.4.0->langchain_chroma)\n",
      "  Obtaining dependency information for requests-oauthlib from https://files.pythonhosted.org/packages/3b/5d/63d4ae3b9daea098d5d6f5da83984853c1bbacd5dc826764b249fe119d24/requests_oauthlib-2.0.0-py2.py3-none-any.whl.metadata\n",
      "  Using cached requests_oauthlib-2.0.0-py2.py3-none-any.whl.metadata (11 kB)\n",
      "Requirement already satisfied: oauthlib>=3.2.2 in c:\\users\\aryye\\anaconda3\\lib\\site-packages (from kubernetes>=28.1.0->chromadb<0.6.0,>=0.4.0->langchain_chroma) (3.2.2)\n",
      "Requirement already satisfied: urllib3>=1.24.2 in c:\\users\\aryye\\anaconda3\\lib\\site-packages (from kubernetes>=28.1.0->chromadb<0.6.0,>=0.4.0->langchain_chroma) (2.2.1)\n",
      "Collecting coloredlogs (from onnxruntime>=1.14.1->chromadb<0.6.0,>=0.4.0->langchain_chroma)\n",
      "  Obtaining dependency information for coloredlogs from https://files.pythonhosted.org/packages/a7/06/3d6badcf13db419e25b07041d9c7b4a2c331d3f4e7134445ec5df57714cd/coloredlogs-15.0.1-py2.py3-none-any.whl.metadata\n",
      "  Using cached coloredlogs-15.0.1-py2.py3-none-any.whl.metadata (12 kB)\n",
      "Requirement already satisfied: flatbuffers in c:\\users\\aryye\\anaconda3\\lib\\site-packages (from onnxruntime>=1.14.1->chromadb<0.6.0,>=0.4.0->langchain_chroma) (24.3.25)\n",
      "Requirement already satisfied: protobuf in c:\\users\\aryye\\appdata\\roaming\\python\\python311\\site-packages (from onnxruntime>=1.14.1->chromadb<0.6.0,>=0.4.0->langchain_chroma) (4.25.3)\n",
      "Requirement already satisfied: sympy in c:\\users\\aryye\\anaconda3\\lib\\site-packages (from onnxruntime>=1.14.1->chromadb<0.6.0,>=0.4.0->langchain_chroma) (1.11.1)\n",
      "Requirement already satisfied: deprecated>=1.2.6 in c:\\users\\aryye\\appdata\\roaming\\python\\python311\\site-packages (from opentelemetry-api>=1.2.0->chromadb<0.6.0,>=0.4.0->langchain_chroma) (1.2.14)\n",
      "Requirement already satisfied: importlib-metadata<=7.1,>=6.0 in c:\\users\\aryye\\anaconda3\\lib\\site-packages (from opentelemetry-api>=1.2.0->chromadb<0.6.0,>=0.4.0->langchain_chroma) (6.0.0)\n",
      "Requirement already satisfied: googleapis-common-protos~=1.52 in c:\\users\\aryye\\anaconda3\\lib\\site-packages (from opentelemetry-exporter-otlp-proto-grpc>=1.2.0->chromadb<0.6.0,>=0.4.0->langchain_chroma) (1.63.2)\n",
      "Collecting opentelemetry-exporter-otlp-proto-common==1.25.0 (from opentelemetry-exporter-otlp-proto-grpc>=1.2.0->chromadb<0.6.0,>=0.4.0->langchain_chroma)\n",
      "  Obtaining dependency information for opentelemetry-exporter-otlp-proto-common==1.25.0 from https://files.pythonhosted.org/packages/05/02/74ac6619eec78c82a923324f916d3eccd2f2254cf4270b669e96b76bf717/opentelemetry_exporter_otlp_proto_common-1.25.0-py3-none-any.whl.metadata\n",
      "  Using cached opentelemetry_exporter_otlp_proto_common-1.25.0-py3-none-any.whl.metadata (1.7 kB)\n",
      "Requirement already satisfied: opentelemetry-proto==1.25.0 in c:\\users\\aryye\\anaconda3\\lib\\site-packages (from opentelemetry-exporter-otlp-proto-grpc>=1.2.0->chromadb<0.6.0,>=0.4.0->langchain_chroma) (1.25.0)\n",
      "Collecting opentelemetry-instrumentation-asgi==0.46b0 (from opentelemetry-instrumentation-fastapi>=0.41b0->chromadb<0.6.0,>=0.4.0->langchain_chroma)\n",
      "  Obtaining dependency information for opentelemetry-instrumentation-asgi==0.46b0 from https://files.pythonhosted.org/packages/47/8d/8955c7fbd949e3ea1c186c7422047f675bf4f7c8976afd2fdf713183318e/opentelemetry_instrumentation_asgi-0.46b0-py3-none-any.whl.metadata\n",
      "  Using cached opentelemetry_instrumentation_asgi-0.46b0-py3-none-any.whl.metadata (1.9 kB)\n",
      "Collecting opentelemetry-instrumentation==0.46b0 (from opentelemetry-instrumentation-fastapi>=0.41b0->chromadb<0.6.0,>=0.4.0->langchain_chroma)\n",
      "  Obtaining dependency information for opentelemetry-instrumentation==0.46b0 from https://files.pythonhosted.org/packages/10/e5/d6fff0a6f6fbddf03c7fb48ab47925581c4f1a8268f9ad98e5ea4a8b90a5/opentelemetry_instrumentation-0.46b0-py3-none-any.whl.metadata\n",
      "  Using cached opentelemetry_instrumentation-0.46b0-py3-none-any.whl.metadata (6.1 kB)\n",
      "Collecting opentelemetry-semantic-conventions==0.46b0 (from opentelemetry-instrumentation-fastapi>=0.41b0->chromadb<0.6.0,>=0.4.0->langchain_chroma)\n",
      "  Obtaining dependency information for opentelemetry-semantic-conventions==0.46b0 from https://files.pythonhosted.org/packages/fd/41/28dae1ec1fe0151373f06bd06d9170ca14b52d5b3a6c2dc55f85bc219619/opentelemetry_semantic_conventions-0.46b0-py3-none-any.whl.metadata\n",
      "  Using cached opentelemetry_semantic_conventions-0.46b0-py3-none-any.whl.metadata (2.3 kB)\n",
      "Requirement already satisfied: opentelemetry-util-http==0.46b0 in c:\\users\\aryye\\anaconda3\\lib\\site-packages (from opentelemetry-instrumentation-fastapi>=0.41b0->chromadb<0.6.0,>=0.4.0->langchain_chroma) (0.46b0)\n",
      "Requirement already satisfied: setuptools>=16.0 in c:\\users\\aryye\\anaconda3\\lib\\site-packages (from opentelemetry-instrumentation==0.46b0->opentelemetry-instrumentation-fastapi>=0.41b0->chromadb<0.6.0,>=0.4.0->langchain_chroma) (68.0.0)\n",
      "Requirement already satisfied: wrapt<2.0.0,>=1.0.0 in c:\\users\\aryye\\anaconda3\\lib\\site-packages (from opentelemetry-instrumentation==0.46b0->opentelemetry-instrumentation-fastapi>=0.41b0->chromadb<0.6.0,>=0.4.0->langchain_chroma) (1.14.1)\n",
      "Collecting asgiref~=3.0 (from opentelemetry-instrumentation-asgi==0.46b0->opentelemetry-instrumentation-fastapi>=0.41b0->chromadb<0.6.0,>=0.4.0->langchain_chroma)\n",
      "  Obtaining dependency information for asgiref~=3.0 from https://files.pythonhosted.org/packages/39/e3/893e8757be2612e6c266d9bb58ad2e3651524b5b40cf56761e985a28b13e/asgiref-3.8.1-py3-none-any.whl.metadata\n",
      "  Using cached asgiref-3.8.1-py3-none-any.whl.metadata (9.3 kB)\n",
      "Requirement already satisfied: monotonic>=1.5 in c:\\users\\aryye\\anaconda3\\lib\\site-packages (from posthog>=2.4.0->chromadb<0.6.0,>=0.4.0->langchain_chroma) (1.6)\n",
      "Collecting backoff>=1.10.0 (from posthog>=2.4.0->chromadb<0.6.0,>=0.4.0->langchain_chroma)\n",
      "  Obtaining dependency information for backoff>=1.10.0 from https://files.pythonhosted.org/packages/df/73/b6e24bd22e6720ca8ee9a85a0c4a2971af8497d8f3193fa05390cbd46e09/backoff-2.2.1-py3-none-any.whl.metadata\n",
      "  Using cached backoff-2.2.1-py3-none-any.whl.metadata (14 kB)\n",
      "Requirement already satisfied: charset-normalizer<4,>=2 in c:\\users\\aryye\\anaconda3\\lib\\site-packages (from requests>=2.26.0->tiktoken<1,>=0.7->langchain_openai) (2.0.4)\n",
      "Requirement already satisfied: click>=8.0.0 in c:\\users\\aryye\\anaconda3\\lib\\site-packages (from typer>=0.9.0->chromadb<0.6.0,>=0.4.0->langchain_chroma) (8.0.4)\n",
      "Requirement already satisfied: shellingham>=1.3.0 in c:\\users\\aryye\\anaconda3\\lib\\site-packages (from typer>=0.9.0->chromadb<0.6.0,>=0.4.0->langchain_chroma) (1.5.4)\n",
      "Collecting rich>=10.11.0 (from typer>=0.9.0->chromadb<0.6.0,>=0.4.0->langchain_chroma)\n",
      "  Obtaining dependency information for rich>=10.11.0 from https://files.pythonhosted.org/packages/87/67/a37f6214d0e9fe57f6ae54b2956d550ca8365857f42a1ce0392bb21d9410/rich-13.7.1-py3-none-any.whl.metadata\n",
      "  Using cached rich-13.7.1-py3-none-any.whl.metadata (18 kB)\n",
      "Requirement already satisfied: httptools>=0.5.0 in c:\\users\\aryye\\anaconda3\\lib\\site-packages (from uvicorn[standard]>=0.18.3->chromadb<0.6.0,>=0.4.0->langchain_chroma) (0.6.1)\n",
      "Requirement already satisfied: python-dotenv>=0.13 in c:\\users\\aryye\\anaconda3\\lib\\site-packages (from uvicorn[standard]>=0.18.3->chromadb<0.6.0,>=0.4.0->langchain_chroma) (0.21.0)\n",
      "Collecting watchfiles>=0.13 (from uvicorn[standard]>=0.18.3->chromadb<0.6.0,>=0.4.0->langchain_chroma)\n",
      "  Obtaining dependency information for watchfiles>=0.13 from https://files.pythonhosted.org/packages/2b/8b/93f4e3ed0d578676b3c2e9d4ebf0b51237f4a96bbe3830b146662cb249da/watchfiles-0.22.0-cp311-none-win_amd64.whl.metadata\n",
      "  Using cached watchfiles-0.22.0-cp311-none-win_amd64.whl.metadata (5.0 kB)\n",
      "Requirement already satisfied: websockets>=10.4 in c:\\users\\aryye\\anaconda3\\lib\\site-packages (from uvicorn[standard]>=0.18.3->chromadb<0.6.0,>=0.4.0->langchain_chroma) (12.0)\n",
      "Requirement already satisfied: cachetools<6.0,>=2.0.0 in c:\\users\\aryye\\anaconda3\\lib\\site-packages (from google-auth>=1.0.1->kubernetes>=28.1.0->chromadb<0.6.0,>=0.4.0->langchain_chroma) (5.4.0)\n",
      "Requirement already satisfied: pyasn1-modules>=0.2.1 in c:\\users\\aryye\\anaconda3\\lib\\site-packages (from google-auth>=1.0.1->kubernetes>=28.1.0->chromadb<0.6.0,>=0.4.0->langchain_chroma) (0.2.8)\n",
      "Requirement already satisfied: rsa<5,>=3.1.4 in c:\\users\\aryye\\anaconda3\\lib\\site-packages (from google-auth>=1.0.1->kubernetes>=28.1.0->chromadb<0.6.0,>=0.4.0->langchain_chroma) (4.9)\n",
      "Requirement already satisfied: zipp>=0.5 in c:\\users\\aryye\\anaconda3\\lib\\site-packages (from importlib-metadata<=7.1,>=6.0->opentelemetry-api>=1.2.0->chromadb<0.6.0,>=0.4.0->langchain_chroma) (3.11.0)\n",
      "Requirement already satisfied: markdown-it-py>=2.2.0 in c:\\users\\aryye\\anaconda3\\lib\\site-packages (from rich>=10.11.0->typer>=0.9.0->chromadb<0.6.0,>=0.4.0->langchain_chroma) (2.2.0)\n",
      "Requirement already satisfied: pygments<3.0.0,>=2.13.0 in c:\\users\\aryye\\anaconda3\\lib\\site-packages (from rich>=10.11.0->typer>=0.9.0->chromadb<0.6.0,>=0.4.0->langchain_chroma) (2.15.1)\n",
      "Requirement already satisfied: humanfriendly>=9.1 in c:\\users\\aryye\\anaconda3\\lib\\site-packages (from coloredlogs->onnxruntime>=1.14.1->chromadb<0.6.0,>=0.4.0->langchain_chroma) (10.0)\n",
      "Requirement already satisfied: mpmath>=0.19 in c:\\users\\aryye\\anaconda3\\lib\\site-packages (from sympy->onnxruntime>=1.14.1->chromadb<0.6.0,>=0.4.0->langchain_chroma) (1.3.0)\n",
      "Requirement already satisfied: pyreadline3 in c:\\users\\aryye\\anaconda3\\lib\\site-packages (from humanfriendly>=9.1->coloredlogs->onnxruntime>=1.14.1->chromadb<0.6.0,>=0.4.0->langchain_chroma) (3.4.1)\n",
      "Requirement already satisfied: mdurl~=0.1 in c:\\users\\aryye\\anaconda3\\lib\\site-packages (from markdown-it-py>=2.2.0->rich>=10.11.0->typer>=0.9.0->chromadb<0.6.0,>=0.4.0->langchain_chroma) (0.1.0)\n",
      "Requirement already satisfied: pyasn1<0.5.0,>=0.4.6 in c:\\users\\aryye\\anaconda3\\lib\\site-packages (from pyasn1-modules>=0.2.1->google-auth>=1.0.1->kubernetes>=28.1.0->chromadb<0.6.0,>=0.4.0->langchain_chroma) (0.4.8)\n",
      "Using cached langchain_chroma-0.1.2-py3-none-any.whl (9.3 kB)\n",
      "Using cached chromadb-0.5.4-py3-none-any.whl (581 kB)\n",
      "Using cached fastapi-0.111.1-py3-none-any.whl (92 kB)\n",
      "Using cached build-1.2.1-py3-none-any.whl (21 kB)\n",
      "Using cached email_validator-2.2.0-py3-none-any.whl (33 kB)\n",
      "Using cached fastapi_cli-0.0.4-py3-none-any.whl (9.5 kB)\n",
      "Using cached kubernetes-30.1.0-py2.py3-none-any.whl (1.7 MB)\n",
      "Using cached onnxruntime-1.18.1-cp311-cp311-win_amd64.whl (5.6 MB)\n",
      "Using cached opentelemetry_api-1.25.0-py3-none-any.whl (59 kB)\n",
      "Using cached opentelemetry_exporter_otlp_proto_grpc-1.25.0-py3-none-any.whl (18 kB)\n",
      "Using cached opentelemetry_exporter_otlp_proto_common-1.25.0-py3-none-any.whl (17 kB)\n",
      "Using cached opentelemetry_instrumentation_fastapi-0.46b0-py3-none-any.whl (11 kB)\n",
      "Using cached opentelemetry_instrumentation-0.46b0-py3-none-any.whl (29 kB)\n",
      "Using cached opentelemetry_instrumentation_asgi-0.46b0-py3-none-any.whl (14 kB)\n",
      "Using cached opentelemetry_semantic_conventions-0.46b0-py3-none-any.whl (130 kB)\n",
      "Using cached opentelemetry_sdk-1.25.0-py3-none-any.whl (107 kB)\n",
      "Using cached posthog-3.5.0-py2.py3-none-any.whl (41 kB)\n",
      "Using cached starlette-0.37.2-py3-none-any.whl (71 kB)\n",
      "Using cached typer-0.12.3-py3-none-any.whl (47 kB)\n",
      "Using cached backoff-2.2.1-py3-none-any.whl (15 kB)\n",
      "Using cached google_auth-2.32.0-py2.py3-none-any.whl (195 kB)\n",
      "Using cached rich-13.7.1-py3-none-any.whl (240 kB)\n",
      "Using cached watchfiles-0.22.0-cp311-none-win_amd64.whl (281 kB)\n",
      "Using cached coloredlogs-15.0.1-py2.py3-none-any.whl (46 kB)\n",
      "Using cached requests_oauthlib-2.0.0-py2.py3-none-any.whl (24 kB)\n",
      "Using cached uvicorn-0.30.1-py3-none-any.whl (62 kB)\n",
      "Using cached asgiref-3.8.1-py3-none-any.whl (23 kB)\n",
      "Installing collected packages: email_validator, build, backoff, asgiref, watchfiles, uvicorn, starlette, rich, requests-oauthlib, posthog, opentelemetry-exporter-otlp-proto-common, opentelemetry-api, google-auth, coloredlogs, typer, opentelemetry-semantic-conventions, opentelemetry-instrumentation, onnxruntime, kubernetes, opentelemetry-sdk, opentelemetry-instrumentation-asgi, fastapi-cli, opentelemetry-instrumentation-fastapi, opentelemetry-exporter-otlp-proto-grpc, fastapi, chromadb, langchain_chroma\n",
      "Successfully installed asgiref-3.8.1 backoff-2.2.1 build-1.2.1 chromadb-0.5.4 coloredlogs-15.0.1 email_validator-2.2.0 fastapi-0.111.1 fastapi-cli-0.0.4 google-auth-2.32.0 kubernetes-30.1.0 langchain_chroma-0.1.2 onnxruntime-1.18.1 opentelemetry-api-1.25.0 opentelemetry-exporter-otlp-proto-common-1.25.0 opentelemetry-exporter-otlp-proto-grpc-1.25.0 opentelemetry-instrumentation-0.46b0 opentelemetry-instrumentation-asgi-0.46b0 opentelemetry-instrumentation-fastapi-0.46b0 opentelemetry-sdk-1.25.0 opentelemetry-semantic-conventions-0.46b0 posthog-3.5.0 requests-oauthlib-2.0.0 rich-13.7.1 starlette-0.37.2 typer-0.12.3 uvicorn-0.30.1 watchfiles-0.22.0\n",
      "Note: you may need to restart the kernel to use updated packages.\n"
     ]
    },
    {
     "name": "stderr",
     "output_type": "stream",
     "text": [
      "  WARNING: The script email_validator.exe is installed in 'C:\\Users\\aryye\\AppData\\Roaming\\Python\\Python311\\Scripts' which is not on PATH.\n",
      "  Consider adding this directory to PATH or, if you prefer to suppress this warning, use --no-warn-script-location.\n",
      "  WARNING: The script pyproject-build.exe is installed in 'C:\\Users\\aryye\\AppData\\Roaming\\Python\\Python311\\Scripts' which is not on PATH.\n",
      "  Consider adding this directory to PATH or, if you prefer to suppress this warning, use --no-warn-script-location.\n",
      "  WARNING: The script watchfiles.exe is installed in 'C:\\Users\\aryye\\AppData\\Roaming\\Python\\Python311\\Scripts' which is not on PATH.\n",
      "  Consider adding this directory to PATH or, if you prefer to suppress this warning, use --no-warn-script-location.\n",
      "  WARNING: The script uvicorn.exe is installed in 'C:\\Users\\aryye\\AppData\\Roaming\\Python\\Python311\\Scripts' which is not on PATH.\n",
      "  Consider adding this directory to PATH or, if you prefer to suppress this warning, use --no-warn-script-location.\n",
      "  WARNING: The script coloredlogs.exe is installed in 'C:\\Users\\aryye\\AppData\\Roaming\\Python\\Python311\\Scripts' which is not on PATH.\n",
      "  Consider adding this directory to PATH or, if you prefer to suppress this warning, use --no-warn-script-location.\n",
      "  WARNING: The script typer.exe is installed in 'C:\\Users\\aryye\\AppData\\Roaming\\Python\\Python311\\Scripts' which is not on PATH.\n",
      "  Consider adding this directory to PATH or, if you prefer to suppress this warning, use --no-warn-script-location.\n",
      "  WARNING: The scripts opentelemetry-bootstrap.exe and opentelemetry-instrument.exe are installed in 'C:\\Users\\aryye\\AppData\\Roaming\\Python\\Python311\\Scripts' which is not on PATH.\n",
      "  Consider adding this directory to PATH or, if you prefer to suppress this warning, use --no-warn-script-location.\n",
      "  WARNING: The script onnxruntime_test.exe is installed in 'C:\\Users\\aryye\\AppData\\Roaming\\Python\\Python311\\Scripts' which is not on PATH.\n",
      "  Consider adding this directory to PATH or, if you prefer to suppress this warning, use --no-warn-script-location.\n",
      "  WARNING: The script fastapi.exe is installed in 'C:\\Users\\aryye\\AppData\\Roaming\\Python\\Python311\\Scripts' which is not on PATH.\n",
      "  Consider adding this directory to PATH or, if you prefer to suppress this warning, use --no-warn-script-location.\n",
      "  WARNING: The script chroma.exe is installed in 'C:\\Users\\aryye\\AppData\\Roaming\\Python\\Python311\\Scripts' which is not on PATH.\n",
      "  Consider adding this directory to PATH or, if you prefer to suppress this warning, use --no-warn-script-location.\n"
     ]
    }
   ],
   "source": [
    "%pip install langchain_chroma langchain_openai --user"
   ]
  },
  {
   "cell_type": "code",
   "execution_count": 15,
   "id": "e755c5ec",
   "metadata": {},
   "outputs": [
    {
     "name": "stdout",
     "output_type": "stream",
     "text": [
      "Requirement already satisfied: chromadb==0.5.3 in c:\\users\\aryye\\appdata\\roaming\\python\\python311\\site-packages (0.5.3)Note: you may need to restart the kernel to use updated packages.\n",
      "\n",
      "Requirement already satisfied: build>=1.0.3 in c:\\users\\aryye\\appdata\\roaming\\python\\python311\\site-packages (from chromadb==0.5.3) (1.2.1)\n",
      "Requirement already satisfied: requests>=2.28 in c:\\users\\aryye\\anaconda3\\lib\\site-packages (from chromadb==0.5.3) (2.31.0)\n",
      "Requirement already satisfied: pydantic>=1.9 in c:\\users\\aryye\\anaconda3\\lib\\site-packages (from chromadb==0.5.3) (1.10.8)\n",
      "Requirement already satisfied: chroma-hnswlib==0.7.3 in c:\\users\\aryye\\appdata\\roaming\\python\\python311\\site-packages (from chromadb==0.5.3) (0.7.3)\n",
      "Requirement already satisfied: fastapi>=0.95.2 in c:\\users\\aryye\\appdata\\roaming\\python\\python311\\site-packages (from chromadb==0.5.3) (0.111.1)\n",
      "Requirement already satisfied: uvicorn[standard]>=0.18.3 in c:\\users\\aryye\\appdata\\roaming\\python\\python311\\site-packages (from chromadb==0.5.3) (0.30.1)\n",
      "Requirement already satisfied: numpy<2.0.0,>=1.22.5 in c:\\users\\aryye\\anaconda3\\lib\\site-packages (from chromadb==0.5.3) (1.24.3)\n",
      "Requirement already satisfied: posthog>=2.4.0 in c:\\users\\aryye\\appdata\\roaming\\python\\python311\\site-packages (from chromadb==0.5.3) (3.5.0)\n",
      "Requirement already satisfied: typing-extensions>=4.5.0 in c:\\users\\aryye\\anaconda3\\lib\\site-packages (from chromadb==0.5.3) (4.10.0)\n",
      "Requirement already satisfied: onnxruntime>=1.14.1 in c:\\users\\aryye\\appdata\\roaming\\python\\python311\\site-packages (from chromadb==0.5.3) (1.18.1)\n",
      "Requirement already satisfied: opentelemetry-api>=1.2.0 in c:\\users\\aryye\\appdata\\roaming\\python\\python311\\site-packages (from chromadb==0.5.3) (1.25.0)\n",
      "Requirement already satisfied: opentelemetry-exporter-otlp-proto-grpc>=1.2.0 in c:\\users\\aryye\\appdata\\roaming\\python\\python311\\site-packages (from chromadb==0.5.3) (1.25.0)\n",
      "Requirement already satisfied: opentelemetry-instrumentation-fastapi>=0.41b0 in c:\\users\\aryye\\appdata\\roaming\\python\\python311\\site-packages (from chromadb==0.5.3) (0.46b0)\n",
      "Requirement already satisfied: opentelemetry-sdk>=1.2.0 in c:\\users\\aryye\\appdata\\roaming\\python\\python311\\site-packages (from chromadb==0.5.3) (1.25.0)\n",
      "Requirement already satisfied: tokenizers>=0.13.2 in c:\\users\\aryye\\anaconda3\\lib\\site-packages (from chromadb==0.5.3) (0.13.2)\n",
      "Requirement already satisfied: pypika>=0.48.9 in c:\\users\\aryye\\anaconda3\\lib\\site-packages (from chromadb==0.5.3) (0.48.9)\n",
      "Requirement already satisfied: tqdm>=4.65.0 in c:\\users\\aryye\\anaconda3\\lib\\site-packages (from chromadb==0.5.3) (4.66.2)\n",
      "Requirement already satisfied: overrides>=7.3.1 in c:\\users\\aryye\\appdata\\roaming\\python\\python311\\site-packages (from chromadb==0.5.3) (7.7.0)\n",
      "Requirement already satisfied: importlib-resources in c:\\users\\aryye\\anaconda3\\lib\\site-packages (from chromadb==0.5.3) (6.4.0)\n",
      "Requirement already satisfied: grpcio>=1.58.0 in c:\\users\\aryye\\anaconda3\\lib\\site-packages (from chromadb==0.5.3) (1.64.1)\n",
      "Requirement already satisfied: bcrypt>=4.0.1 in c:\\users\\aryye\\anaconda3\\lib\\site-packages (from chromadb==0.5.3) (4.1.3)\n",
      "Requirement already satisfied: typer>=0.9.0 in c:\\users\\aryye\\appdata\\roaming\\python\\python311\\site-packages (from chromadb==0.5.3) (0.12.3)\n",
      "Requirement already satisfied: kubernetes>=28.1.0 in c:\\users\\aryye\\appdata\\roaming\\python\\python311\\site-packages (from chromadb==0.5.3) (30.1.0)\n",
      "Requirement already satisfied: tenacity>=8.2.3 in c:\\users\\aryye\\anaconda3\\lib\\site-packages (from chromadb==0.5.3) (8.5.0)\n",
      "Requirement already satisfied: PyYAML>=6.0.0 in c:\\users\\aryye\\anaconda3\\lib\\site-packages (from chromadb==0.5.3) (6.0)\n",
      "Requirement already satisfied: mmh3>=4.0.1 in c:\\users\\aryye\\anaconda3\\lib\\site-packages (from chromadb==0.5.3) (4.1.0)\n",
      "Requirement already satisfied: orjson>=3.9.12 in c:\\users\\aryye\\anaconda3\\lib\\site-packages (from chromadb==0.5.3) (3.10.6)\n",
      "Requirement already satisfied: httpx>=0.27.0 in c:\\users\\aryye\\anaconda3\\lib\\site-packages (from chromadb==0.5.3) (0.27.0)\n",
      "Requirement already satisfied: packaging>=19.1 in c:\\users\\aryye\\anaconda3\\lib\\site-packages (from build>=1.0.3->chromadb==0.5.3) (24.1)\n",
      "Requirement already satisfied: pyproject_hooks in c:\\users\\aryye\\anaconda3\\lib\\site-packages (from build>=1.0.3->chromadb==0.5.3) (1.1.0)\n",
      "Requirement already satisfied: colorama in c:\\users\\aryye\\anaconda3\\lib\\site-packages (from build>=1.0.3->chromadb==0.5.3) (0.4.6)\n",
      "Requirement already satisfied: starlette<0.38.0,>=0.37.2 in c:\\users\\aryye\\appdata\\roaming\\python\\python311\\site-packages (from fastapi>=0.95.2->chromadb==0.5.3) (0.37.2)\n",
      "Requirement already satisfied: fastapi-cli>=0.0.2 in c:\\users\\aryye\\appdata\\roaming\\python\\python311\\site-packages (from fastapi>=0.95.2->chromadb==0.5.3) (0.0.4)\n",
      "Requirement already satisfied: jinja2>=2.11.2 in c:\\users\\aryye\\anaconda3\\lib\\site-packages (from fastapi>=0.95.2->chromadb==0.5.3) (3.1.2)\n",
      "Requirement already satisfied: python-multipart>=0.0.7 in c:\\users\\aryye\\anaconda3\\lib\\site-packages (from fastapi>=0.95.2->chromadb==0.5.3) (0.0.9)\n",
      "Requirement already satisfied: email_validator>=2.0.0 in c:\\users\\aryye\\appdata\\roaming\\python\\python311\\site-packages (from fastapi>=0.95.2->chromadb==0.5.3) (2.2.0)\n",
      "Requirement already satisfied: anyio in c:\\users\\aryye\\anaconda3\\lib\\site-packages (from httpx>=0.27.0->chromadb==0.5.3) (3.5.0)\n",
      "Requirement already satisfied: certifi in c:\\users\\aryye\\anaconda3\\lib\\site-packages (from httpx>=0.27.0->chromadb==0.5.3) (2023.7.22)\n",
      "Requirement already satisfied: httpcore==1.* in c:\\users\\aryye\\anaconda3\\lib\\site-packages (from httpx>=0.27.0->chromadb==0.5.3) (1.0.5)\n",
      "Requirement already satisfied: idna in c:\\users\\aryye\\anaconda3\\lib\\site-packages (from httpx>=0.27.0->chromadb==0.5.3) (3.4)\n",
      "Requirement already satisfied: sniffio in c:\\users\\aryye\\anaconda3\\lib\\site-packages (from httpx>=0.27.0->chromadb==0.5.3) (1.2.0)\n",
      "Requirement already satisfied: h11<0.15,>=0.13 in c:\\users\\aryye\\anaconda3\\lib\\site-packages (from httpcore==1.*->httpx>=0.27.0->chromadb==0.5.3) (0.14.0)\n",
      "Requirement already satisfied: six>=1.9.0 in c:\\users\\aryye\\anaconda3\\lib\\site-packages (from kubernetes>=28.1.0->chromadb==0.5.3) (1.16.0)\n",
      "Requirement already satisfied: python-dateutil>=2.5.3 in c:\\users\\aryye\\anaconda3\\lib\\site-packages (from kubernetes>=28.1.0->chromadb==0.5.3) (2.8.2)\n",
      "Requirement already satisfied: google-auth>=1.0.1 in c:\\users\\aryye\\appdata\\roaming\\python\\python311\\site-packages (from kubernetes>=28.1.0->chromadb==0.5.3) (2.32.0)\n",
      "Requirement already satisfied: websocket-client!=0.40.0,!=0.41.*,!=0.42.*,>=0.32.0 in c:\\users\\aryye\\anaconda3\\lib\\site-packages (from kubernetes>=28.1.0->chromadb==0.5.3) (0.58.0)\n",
      "Requirement already satisfied: requests-oauthlib in c:\\users\\aryye\\appdata\\roaming\\python\\python311\\site-packages (from kubernetes>=28.1.0->chromadb==0.5.3) (2.0.0)\n",
      "Requirement already satisfied: oauthlib>=3.2.2 in c:\\users\\aryye\\anaconda3\\lib\\site-packages (from kubernetes>=28.1.0->chromadb==0.5.3) (3.2.2)\n",
      "Requirement already satisfied: urllib3>=1.24.2 in c:\\users\\aryye\\anaconda3\\lib\\site-packages (from kubernetes>=28.1.0->chromadb==0.5.3) (2.2.1)\n",
      "Requirement already satisfied: coloredlogs in c:\\users\\aryye\\appdata\\roaming\\python\\python311\\site-packages (from onnxruntime>=1.14.1->chromadb==0.5.3) (15.0.1)\n",
      "Requirement already satisfied: flatbuffers in c:\\users\\aryye\\anaconda3\\lib\\site-packages (from onnxruntime>=1.14.1->chromadb==0.5.3) (24.3.25)\n",
      "Requirement already satisfied: protobuf in c:\\users\\aryye\\appdata\\roaming\\python\\python311\\site-packages (from onnxruntime>=1.14.1->chromadb==0.5.3) (4.25.3)\n",
      "Requirement already satisfied: sympy in c:\\users\\aryye\\anaconda3\\lib\\site-packages (from onnxruntime>=1.14.1->chromadb==0.5.3) (1.11.1)\n",
      "Requirement already satisfied: deprecated>=1.2.6 in c:\\users\\aryye\\appdata\\roaming\\python\\python311\\site-packages (from opentelemetry-api>=1.2.0->chromadb==0.5.3) (1.2.14)\n",
      "Requirement already satisfied: importlib-metadata<=7.1,>=6.0 in c:\\users\\aryye\\anaconda3\\lib\\site-packages (from opentelemetry-api>=1.2.0->chromadb==0.5.3) (6.0.0)\n",
      "Requirement already satisfied: googleapis-common-protos~=1.52 in c:\\users\\aryye\\anaconda3\\lib\\site-packages (from opentelemetry-exporter-otlp-proto-grpc>=1.2.0->chromadb==0.5.3) (1.63.2)\n",
      "Requirement already satisfied: opentelemetry-exporter-otlp-proto-common==1.25.0 in c:\\users\\aryye\\appdata\\roaming\\python\\python311\\site-packages (from opentelemetry-exporter-otlp-proto-grpc>=1.2.0->chromadb==0.5.3) (1.25.0)\n",
      "Requirement already satisfied: opentelemetry-proto==1.25.0 in c:\\users\\aryye\\anaconda3\\lib\\site-packages (from opentelemetry-exporter-otlp-proto-grpc>=1.2.0->chromadb==0.5.3) (1.25.0)\n",
      "Requirement already satisfied: opentelemetry-instrumentation-asgi==0.46b0 in c:\\users\\aryye\\appdata\\roaming\\python\\python311\\site-packages (from opentelemetry-instrumentation-fastapi>=0.41b0->chromadb==0.5.3) (0.46b0)\n",
      "Requirement already satisfied: opentelemetry-instrumentation==0.46b0 in c:\\users\\aryye\\appdata\\roaming\\python\\python311\\site-packages (from opentelemetry-instrumentation-fastapi>=0.41b0->chromadb==0.5.3) (0.46b0)\n",
      "Requirement already satisfied: opentelemetry-semantic-conventions==0.46b0 in c:\\users\\aryye\\appdata\\roaming\\python\\python311\\site-packages (from opentelemetry-instrumentation-fastapi>=0.41b0->chromadb==0.5.3) (0.46b0)\n",
      "Requirement already satisfied: opentelemetry-util-http==0.46b0 in c:\\users\\aryye\\anaconda3\\lib\\site-packages (from opentelemetry-instrumentation-fastapi>=0.41b0->chromadb==0.5.3) (0.46b0)\n",
      "Requirement already satisfied: setuptools>=16.0 in c:\\users\\aryye\\anaconda3\\lib\\site-packages (from opentelemetry-instrumentation==0.46b0->opentelemetry-instrumentation-fastapi>=0.41b0->chromadb==0.5.3) (68.0.0)\n",
      "Requirement already satisfied: wrapt<2.0.0,>=1.0.0 in c:\\users\\aryye\\anaconda3\\lib\\site-packages (from opentelemetry-instrumentation==0.46b0->opentelemetry-instrumentation-fastapi>=0.41b0->chromadb==0.5.3) (1.14.1)\n",
      "Requirement already satisfied: asgiref~=3.0 in c:\\users\\aryye\\appdata\\roaming\\python\\python311\\site-packages (from opentelemetry-instrumentation-asgi==0.46b0->opentelemetry-instrumentation-fastapi>=0.41b0->chromadb==0.5.3) (3.8.1)\n",
      "Requirement already satisfied: monotonic>=1.5 in c:\\users\\aryye\\anaconda3\\lib\\site-packages (from posthog>=2.4.0->chromadb==0.5.3) (1.6)\n",
      "Requirement already satisfied: backoff>=1.10.0 in c:\\users\\aryye\\appdata\\roaming\\python\\python311\\site-packages (from posthog>=2.4.0->chromadb==0.5.3) (2.2.1)\n",
      "Requirement already satisfied: charset-normalizer<4,>=2 in c:\\users\\aryye\\anaconda3\\lib\\site-packages (from requests>=2.28->chromadb==0.5.3) (2.0.4)\n",
      "Requirement already satisfied: click>=8.0.0 in c:\\users\\aryye\\anaconda3\\lib\\site-packages (from typer>=0.9.0->chromadb==0.5.3) (8.0.4)\n",
      "Requirement already satisfied: shellingham>=1.3.0 in c:\\users\\aryye\\anaconda3\\lib\\site-packages (from typer>=0.9.0->chromadb==0.5.3) (1.5.4)\n",
      "Requirement already satisfied: rich>=10.11.0 in c:\\users\\aryye\\appdata\\roaming\\python\\python311\\site-packages (from typer>=0.9.0->chromadb==0.5.3) (13.7.1)\n",
      "Requirement already satisfied: httptools>=0.5.0 in c:\\users\\aryye\\anaconda3\\lib\\site-packages (from uvicorn[standard]>=0.18.3->chromadb==0.5.3) (0.6.1)\n",
      "Requirement already satisfied: python-dotenv>=0.13 in c:\\users\\aryye\\anaconda3\\lib\\site-packages (from uvicorn[standard]>=0.18.3->chromadb==0.5.3) (0.21.0)\n",
      "Requirement already satisfied: watchfiles>=0.13 in c:\\users\\aryye\\appdata\\roaming\\python\\python311\\site-packages (from uvicorn[standard]>=0.18.3->chromadb==0.5.3) (0.22.0)\n",
      "Requirement already satisfied: websockets>=10.4 in c:\\users\\aryye\\anaconda3\\lib\\site-packages (from uvicorn[standard]>=0.18.3->chromadb==0.5.3) (12.0)\n",
      "Requirement already satisfied: dnspython>=2.0.0 in c:\\users\\aryye\\anaconda3\\lib\\site-packages (from email_validator>=2.0.0->fastapi>=0.95.2->chromadb==0.5.3) (2.6.1)\n",
      "Requirement already satisfied: cachetools<6.0,>=2.0.0 in c:\\users\\aryye\\anaconda3\\lib\\site-packages (from google-auth>=1.0.1->kubernetes>=28.1.0->chromadb==0.5.3) (5.4.0)\n",
      "Requirement already satisfied: pyasn1-modules>=0.2.1 in c:\\users\\aryye\\anaconda3\\lib\\site-packages (from google-auth>=1.0.1->kubernetes>=28.1.0->chromadb==0.5.3) (0.2.8)\n",
      "Requirement already satisfied: rsa<5,>=3.1.4 in c:\\users\\aryye\\anaconda3\\lib\\site-packages (from google-auth>=1.0.1->kubernetes>=28.1.0->chromadb==0.5.3) (4.9)\n",
      "Requirement already satisfied: zipp>=0.5 in c:\\users\\aryye\\anaconda3\\lib\\site-packages (from importlib-metadata<=7.1,>=6.0->opentelemetry-api>=1.2.0->chromadb==0.5.3) (3.11.0)\n",
      "Requirement already satisfied: MarkupSafe>=2.0 in c:\\users\\aryye\\anaconda3\\lib\\site-packages (from jinja2>=2.11.2->fastapi>=0.95.2->chromadb==0.5.3) (2.1.1)\n",
      "Requirement already satisfied: markdown-it-py>=2.2.0 in c:\\users\\aryye\\anaconda3\\lib\\site-packages (from rich>=10.11.0->typer>=0.9.0->chromadb==0.5.3) (2.2.0)\n",
      "Requirement already satisfied: pygments<3.0.0,>=2.13.0 in c:\\users\\aryye\\anaconda3\\lib\\site-packages (from rich>=10.11.0->typer>=0.9.0->chromadb==0.5.3) (2.15.1)\n",
      "Requirement already satisfied: humanfriendly>=9.1 in c:\\users\\aryye\\anaconda3\\lib\\site-packages (from coloredlogs->onnxruntime>=1.14.1->chromadb==0.5.3) (10.0)\n",
      "Requirement already satisfied: mpmath>=0.19 in c:\\users\\aryye\\anaconda3\\lib\\site-packages (from sympy->onnxruntime>=1.14.1->chromadb==0.5.3) (1.3.0)\n",
      "Requirement already satisfied: pyreadline3 in c:\\users\\aryye\\anaconda3\\lib\\site-packages (from humanfriendly>=9.1->coloredlogs->onnxruntime>=1.14.1->chromadb==0.5.3) (3.4.1)\n",
      "Requirement already satisfied: mdurl~=0.1 in c:\\users\\aryye\\anaconda3\\lib\\site-packages (from markdown-it-py>=2.2.0->rich>=10.11.0->typer>=0.9.0->chromadb==0.5.3) (0.1.0)\n",
      "Requirement already satisfied: pyasn1<0.5.0,>=0.4.6 in c:\\users\\aryye\\anaconda3\\lib\\site-packages (from pyasn1-modules>=0.2.1->google-auth>=1.0.1->kubernetes>=28.1.0->chromadb==0.5.3) (0.4.8)\n"
     ]
    }
   ],
   "source": [
    "%pip install --user chromadb==0.5.3"
   ]
  },
  {
   "cell_type": "code",
   "execution_count": 5,
   "id": "fc334a9b",
   "metadata": {
    "scrolled": false
   },
   "outputs": [],
   "source": [
    "from langchain_chroma import Chroma\n",
    "from langchain_openai import OpenAIEmbeddings\n",
    "from langchain_text_splitters import RecursiveCharacterTextSplitter\n",
    "\n",
    "text_splitter = RecursiveCharacterTextSplitter(chunk_size=1000, chunk_overlap=200)\n",
    "splits = text_splitter.split_documents(docs)\n",
    "vectorstore = Chroma.from_documents(documents=splits, embedding=OpenAIEmbeddings())\n",
    "\n",
    "retriever = vectorstore.as_retriever()"
   ]
  },
  {
   "cell_type": "code",
   "execution_count": 9,
   "id": "7874f014",
   "metadata": {},
   "outputs": [
    {
     "data": {
      "text/plain": [
       "{'input': 'What does LS and  L1 mean?',\n",
       " 'context': [Document(metadata={'page': 222, 'source': 'C:/Users/aryye/OneDrive/Documents/GitHub/HLC/data/LCOS Manual.pdf'}, page_content='LCOS USER MANUAL   Chapter 14 Page 10 \\nCopyright © 2021 Huntington Mark,  LLC. \\n \\n \\nFigure 14-9 a \\n \\nUse the following table of definitions to assist you.  \\nSkills Table  \\nTerm Definition  \\nL1/G1  Capable of teaching 1 -1 Learning Center \\nand/or NCLB students.  \\nS1 Critical Reading and Writing  Capable of teaching SAT Critical Reading and \\nWriting skills.  \\nS1 Math  Capable of teaching SAT Mathematics skills.  \\nA1 English and Writing  Capable of teaching ACT English and Writing.  \\nA1 Math  Capable of teaching ACT Mathematics skills.  \\nE1 Capable of teaching Exam Preparation skills.  \\nLS/GS Math (PK -6) Capable of teachi ng 4-1 Learning Center \\nand/or NCLB student’s PK -6 grade \\nmathematics.  \\nLS/GS Math (7 -8) Capable of teaching 4 -1 Learning Center \\nand/or NCLB student’s 7 -8 grade \\nmathematics.  \\nLS/GS Math (HS+, 9 -14) Capable of teaching 4 -1 Learning Center \\nand/or NCLB student’ s 9-14 grade (high \\nschool and upper level) mathematics.'),\n",
       "  Document(metadata={'page': 234, 'source': 'C:/Users/aryye/OneDrive/Documents/GitHub/HLC/data/LCOS Manual.pdf'}, page_content='LCOS USER MANUAL   Chapter 14 Page 22 \\nCopyright © 2021 Huntington Mark,  LLC. When you first open the Master Sche dule program , you will notice red boxes next to the \\nnames of some students.  (Figure 14- 20) \\n \\n \\nFigure 14-20 \\n \\n\\uf0d8 Click on the Red Box.   (Figure 14- 21)   \\nThe Red Box  indicates LS Math or ST students.  These students need a specific \\nlevel of math skills or a specific subject tutor.  (The LS Math students should not \\nshow their actual school grade, but the level of math curriculum that they are using).   \\n \\n \\n              Figure 14- 21'),\n",
       "  Document(metadata={'page': 8, 'source': 'C:/Users/aryye/OneDrive/Documents/GitHub/HLC/data/LCOS Manual.pdf'}, page_content='LCOS USER MANUAL   Chapter 1 Page 5 \\nCopyright © 20 17 Huntington  Mark, LLC. \\nEach lifecycle stage has an allowable status.  They are:  \\nALLOWABLE STATUS  \\nTITLE *  INQ AE CONF  ENR  DROP  \\nLC \\uf038 \\uf020 \\uf038     \\nL1 \\uf038  \\uf038  \\uf038  \\uf038  \\uf038  \\nLS \\uf038  \\uf038  \\uf038  \\uf038  \\uf038  \\nS1 \\uf038  \\uf038  \\uf038  \\uf038  \\uf038  \\nA1 \\uf038  \\uf038  \\uf038  \\uf038  \\uf038  \\nE1 \\uf038  \\uf038  \\uf038  \\uf038  \\uf038  \\nG1 \\uf038  \\uf038  \\uf038  \\uf038  \\uf038  \\nGS \\uf038  \\uf038  \\uf038  \\uf038  \\uf038  \\nST \\uf038    \\uf038  \\uf038  \\n \\uf038    \\uf038  \\uf038  *Refer to the Directory of Terms and Abbreviations found in Chapter 2 for Title definitions.  \\n \\nThe de signation LC is only used during the INQ and AE.  LC does not have a \\ncorresponding monetary value.  It is a non -chargeable status.  \\n \\nRules of LCOS  \\nThere are 10 Rules that must be followed when using LCOS.  They are : \\n\\uf0d8 Rule 1  - A student is not allowed to be e ntered into Daily Maintenance unless he has a \\nvalid \"active\" rate.  An \"active\" rate is the rate that the student is charged for instruction.    \\n\\uf0d8 Rule 2  - A student becomes enrolled (ENR) by virtue of attending one instructed'),\n",
       "  Document(metadata={'page': 25, 'source': 'C:/Users/aryye/OneDrive/Documents/GitHub/HLC/data/LCOS Manual.pdf'}, page_content='LCOS USER MANUAL   Chapter 2 Page 14 \\nCopyright © 2016 Huntington Mark, LLC. DIRECTORY OF TERMS AND ABBREVIATIONS  \\nTerm or \\nAbbreviation  Meanings and Definitions  \\nStudent \\nAnalysis \\n(C226)  The report that informs staff about important information regarding its students \\n(e.g., monies owed, when ICs are due, etc.).  \\nStudent \\nIdentification \\nNumber  \\n(Student ID)  An ID number code comprised of 11 digits, assigned to a student on the date \\nof the Initial Inquiry.  The last 3 digits represent a sequence number.  \\nStudent List  Lists all active students grouped by lifecycle status.  It is the list from which a \\nstudent is selected when performing Student -Specific tasks in LCOS.  \\nStudent Sign -\\nIn Sheets  Form generated from LCOS that students use to Sign -In and out for the times \\nthey are at the Center for instruction.  \\nStudent  A student whom we  see at a Center.  \\nSubsequent \\nContacts  Contact either by the student or the Center, following the Initial Inquiry.  \\nSV')],\n",
       " 'answer': 'LS refers to students capable of teaching PK-14 grade mathematics at a Learning Center and/or NCLB students. L1 indicates the capability of teaching 1-1 Learning Center and/or NCLB students.'}"
      ]
     },
     "execution_count": 9,
     "metadata": {},
     "output_type": "execute_result"
    }
   ],
   "source": [
    "from langchain.chains import create_retrieval_chain\n",
    "from langchain.chains.combine_documents import create_stuff_documents_chain\n",
    "from langchain_core.prompts import ChatPromptTemplate\n",
    "\n",
    "system_prompt = (\n",
    "    \"You are an assistant for question-answering tasks. \"\n",
    "    \"Use the following pieces of retrieved context to answer \"\n",
    "    \"the question. If you don't know the answer, say that you \"\n",
    "    \"don't know. Use three sentences maximum and keep the \"\n",
    "    \"answer concise.\"\n",
    "    \"\\n\\n\"\n",
    "    \"{context}\"\n",
    ")\n",
    "\n",
    "prompt = ChatPromptTemplate.from_messages(\n",
    "    [\n",
    "        (\"system\", system_prompt),\n",
    "        (\"human\", \"{input}\"),\n",
    "    ]\n",
    ")\n",
    "\n",
    "\n",
    "question_answer_chain = create_stuff_documents_chain(llm, prompt)\n",
    "rag_chain = create_retrieval_chain(retriever, question_answer_chain)\n",
    "\n",
    "results = rag_chain.invoke({\"input\": \"What does LS and  L1 mean?\"})\n",
    "#results = rag_chain.invoke({\"input\": \"What is LCOS? What can you use it for?\"})\n",
    "results"
   ]
  },
  {
   "cell_type": "code",
   "execution_count": 7,
   "id": "afba30ec",
   "metadata": {},
   "outputs": [
    {
     "name": "stdout",
     "output_type": "stream",
     "text": [
      "LCOS USER MANUAL\n"
     ]
    }
   ],
   "source": [
    "print(results[\"context\"][0].page_content)"
   ]
  },
  {
   "cell_type": "code",
   "execution_count": 8,
   "id": "25b46f52",
   "metadata": {},
   "outputs": [
    {
     "name": "stdout",
     "output_type": "stream",
     "text": [
      "{'page': 0, 'source': 'C:/Users/aryye/OneDrive/Documents/GitHub/HLC/data/LCOS Manual.pdf'}\n"
     ]
    }
   ],
   "source": [
    "print(results[\"context\"][0].metadata)"
   ]
  },
  {
   "cell_type": "code",
   "execution_count": null,
   "id": "7267f627",
   "metadata": {},
   "outputs": [],
   "source": []
  }
 ],
 "metadata": {
  "kernelspec": {
   "display_name": "Python 3 (ipykernel)",
   "language": "python",
   "name": "python3"
  },
  "language_info": {
   "codemirror_mode": {
    "name": "ipython",
    "version": 3
   },
   "file_extension": ".py",
   "mimetype": "text/x-python",
   "name": "python",
   "nbconvert_exporter": "python",
   "pygments_lexer": "ipython3",
   "version": "3.11.5"
  }
 },
 "nbformat": 4,
 "nbformat_minor": 5
}
